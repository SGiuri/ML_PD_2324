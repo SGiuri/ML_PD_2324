{
 "cells": [
  {
   "cell_type": "markdown",
   "metadata": {},
   "source": [
    "# Regressione Lineare di un dataset temporale"
   ]
  },
  {
   "cell_type": "code",
   "execution_count": 1,
   "metadata": {},
   "outputs": [],
   "source": [
    "import os\n",
    "import sys\n",
    "\n",
    "import pandas as pd\n",
    "import numpy as np\n",
    "\n",
    "import matplotlib.pyplot as plt\n",
    "import seaborn as sns\n",
    "\n",
    "from sklearn.linear_model import LinearRegression\n",
    "from sklearn.model_selection import train_test_split\n",
    "\n",
    "SEED = 42"
   ]
  },
  {
   "cell_type": "code",
   "execution_count": 2,
   "metadata": {},
   "outputs": [],
   "source": [
    "\n",
    "# my_cwd = os.getcwd()\n",
    "# new_dir = os.path.dirname(my_cwd)\n",
    "# os.chdir(new_dir)\n",
    "# os.getcwd()"
   ]
  },
  {
   "cell_type": "code",
   "execution_count": 3,
   "metadata": {},
   "outputs": [
    {
     "data": {
      "text/plain": [
       "['h:\\\\My Drive\\\\ITS\\\\MarioVolpato\\\\Corso Forema AI_DS\\\\ML_PD_2324\\\\Lezione5\\\\GoldPrediction\\\\notebooks',\n",
       " 'c:\\\\Users\\\\simon\\\\anaconda3\\\\envs\\\\AIDS_Base_310\\\\python310.zip',\n",
       " 'c:\\\\Users\\\\simon\\\\anaconda3\\\\envs\\\\AIDS_Base_310\\\\DLLs',\n",
       " 'c:\\\\Users\\\\simon\\\\anaconda3\\\\envs\\\\AIDS_Base_310\\\\lib',\n",
       " 'c:\\\\Users\\\\simon\\\\anaconda3\\\\envs\\\\AIDS_Base_310',\n",
       " '',\n",
       " 'c:\\\\Users\\\\simon\\\\anaconda3\\\\envs\\\\AIDS_Base_310\\\\lib\\\\site-packages',\n",
       " 'c:\\\\Users\\\\simon\\\\anaconda3\\\\envs\\\\AIDS_Base_310\\\\lib\\\\site-packages\\\\win32',\n",
       " 'c:\\\\Users\\\\simon\\\\anaconda3\\\\envs\\\\AIDS_Base_310\\\\lib\\\\site-packages\\\\win32\\\\lib',\n",
       " 'c:\\\\Users\\\\simon\\\\anaconda3\\\\envs\\\\AIDS_Base_310\\\\lib\\\\site-packages\\\\Pythonwin']"
      ]
     },
     "execution_count": 3,
     "metadata": {},
     "output_type": "execute_result"
    }
   ],
   "source": [
    "sys.path"
   ]
  },
  {
   "cell_type": "code",
   "execution_count": 4,
   "metadata": {},
   "outputs": [
    {
     "name": "stdout",
     "output_type": "stream",
     "text": [
      "CWD impostata in:\n",
      "h:\\My Drive\\ITS\\MarioVolpato\\Corso Forema AI_DS\\ML_PD_2324\\Lezione5\\GoldPrediction\n"
     ]
    }
   ],
   "source": [
    "\n",
    "# Se la variabile \"cwd\" non è presente nel contesto locale\n",
    "if not \"my_cwd\" in locals():\n",
    "    # Estraggo il percorso corrente della mia directory di lavoro\n",
    "    my_cwd = os.getcwd()\n",
    "    # Ottieni la directory genitore della directory corrente\n",
    "    parent_dir = os.path.dirname(my_cwd)\n",
    "    # Imposta la directory genitore come nuova directory corrente\n",
    "    my_cwd = parent_dir\n",
    "    # Aggiungi la nuova directory corrente al percorso di ricerca dei moduli\n",
    "    sys.path.append(my_cwd)\n",
    "    # Cambia la directory corrente\n",
    "    os.chdir(my_cwd)\n",
    "    # Stampa il percorso della nuova directory corrente\n",
    "    print(f\"CWD impostata in:\\n{my_cwd}\")"
   ]
  },
  {
   "cell_type": "code",
   "execution_count": 5,
   "metadata": {},
   "outputs": [],
   "source": [
    "import src\n",
    "from src import my_functions\n",
    "from src.my_functions import show_multiple_img as smi"
   ]
  },
  {
   "cell_type": "code",
   "execution_count": 6,
   "metadata": {},
   "outputs": [
    {
     "name": "stderr",
     "output_type": "stream",
     "text": [
      "2024-02-09 15:09:17,060 - __main__ - INFO - This is an info message\n",
      "2024-02-09 15:09:17,070 - __main__ - WARNING - This is a warning message\n",
      "2024-02-09 15:09:17,074 - __main__ - ERROR - This is an error message\n",
      "2024-02-09 15:09:17,076 - __main__ - CRITICAL - This is a critical message\n"
     ]
    }
   ],
   "source": [
    "import logging\n",
    "\n",
    "# Set up the logger\n",
    "logger = logging.getLogger(__name__)\n",
    "logger.setLevel(logging.DEBUG)\n",
    "\n",
    "# Create a file handler and set the log level\n",
    "file_handler = logging.FileHandler('logfile.log')\n",
    "file_handler.setLevel(logging.DEBUG)\n",
    "\n",
    "# Create a console handler and set the log level\n",
    "console_handler = logging.StreamHandler()\n",
    "console_handler.setLevel(logging.INFO)\n",
    "\n",
    "# Create a formatter and add it to the handlers\n",
    "formatter = logging.Formatter('%(asctime)s - %(name)s - %(levelname)s - %(message)s')\n",
    "file_handler.setFormatter(formatter)\n",
    "console_handler.setFormatter(formatter)\n",
    "\n",
    "# Add the handlers to the logger\n",
    "logger.addHandler(file_handler)\n",
    "logger.addHandler(console_handler)\n",
    "\n",
    "# Use the logger\n",
    "logger.debug('This is a debug message')\n",
    "logger.info('This is an info message')\n",
    "logger.warning('This is a warning message')\n",
    "logger.error('This is an error message')\n",
    "logger.critical('This is a critical message')\n"
   ]
  },
  {
   "cell_type": "code",
   "execution_count": 7,
   "metadata": {},
   "outputs": [
    {
     "name": "stderr",
     "output_type": "stream",
     "text": [
      "2024-02-09 15:09:17,108 - __main__ - INFO - Input file: h:\\My Drive\\ITS\\MarioVolpato\\Corso Forema AI_DS\\ML_PD_2324\\Lezione5\\GoldPrediction\\input\\quotazOro10A.csv\n"
     ]
    }
   ],
   "source": [
    "my_file_name = \"quotazOro10A.csv\"\n",
    "\n",
    "input_file = os.path.join(my_cwd, \"input\", my_file_name)\n",
    "\n",
    "logger.info(f'Input file: {input_file}')\n",
    "\n",
    "\n",
    "df = pd.read_csv(input_file)"
   ]
  },
  {
   "cell_type": "code",
   "execution_count": 8,
   "metadata": {},
   "outputs": [
    {
     "data": {
      "text/plain": [
       "'h:\\\\My Drive\\\\ITS\\\\MarioVolpato\\\\Corso Forema AI_DS\\\\ML_PD_2324\\\\Lezione5\\\\GoldPrediction'"
      ]
     },
     "execution_count": 8,
     "metadata": {},
     "output_type": "execute_result"
    }
   ],
   "source": [
    "os.getcwd()"
   ]
  },
  {
   "cell_type": "code",
   "execution_count": 9,
   "metadata": {},
   "outputs": [
    {
     "data": {
      "text/html": [
       "<div>\n",
       "<style scoped>\n",
       "    .dataframe tbody tr th:only-of-type {\n",
       "        vertical-align: middle;\n",
       "    }\n",
       "\n",
       "    .dataframe tbody tr th {\n",
       "        vertical-align: top;\n",
       "    }\n",
       "\n",
       "    .dataframe thead th {\n",
       "        text-align: right;\n",
       "    }\n",
       "</style>\n",
       "<table border=\"1\" class=\"dataframe\">\n",
       "  <thead>\n",
       "    <tr style=\"text-align: right;\">\n",
       "      <th></th>\n",
       "      <th>open</th>\n",
       "      <th>high</th>\n",
       "      <th>low</th>\n",
       "      <th>close</th>\n",
       "      <th>volume</th>\n",
       "      <th>timestamp</th>\n",
       "      <th>formattedOpen</th>\n",
       "      <th>formattedHigh</th>\n",
       "      <th>formattedLow</th>\n",
       "      <th>formattedClose</th>\n",
       "      <th>formattedVolume</th>\n",
       "      <th>formattedTimestamp</th>\n",
       "      <th>relatedNews</th>\n",
       "      <th>issue</th>\n",
       "      <th>redemption</th>\n",
       "      <th>highLow</th>\n",
       "      <th>peCode</th>\n",
       "      <th>newsPnacWithCsk</th>\n",
       "      <th>Date</th>\n",
       "    </tr>\n",
       "  </thead>\n",
       "  <tbody>\n",
       "    <tr>\n",
       "      <th>0</th>\n",
       "      <td>29.89</td>\n",
       "      <td>30.12</td>\n",
       "      <td>29.86</td>\n",
       "      <td>30.05</td>\n",
       "      <td>0</td>\n",
       "      <td>2014-02-10T01:00:00+01:00</td>\n",
       "      <td>29.89</td>\n",
       "      <td>30.12</td>\n",
       "      <td>29.86</td>\n",
       "      <td>30.05</td>\n",
       "      <td>0</td>\n",
       "      <td>10/02/2014</td>\n",
       "      <td>NaN</td>\n",
       "      <td>0</td>\n",
       "      <td>1</td>\n",
       "      <td>[object Object]</td>\n",
       "      <td>[object Object]</td>\n",
       "      <td>NaN</td>\n",
       "      <td>2014-02-10</td>\n",
       "    </tr>\n",
       "    <tr>\n",
       "      <th>1</th>\n",
       "      <td>30.03</td>\n",
       "      <td>30.47</td>\n",
       "      <td>30.01</td>\n",
       "      <td>30.42</td>\n",
       "      <td>0</td>\n",
       "      <td>2014-02-11T01:00:00+01:00</td>\n",
       "      <td>30.03</td>\n",
       "      <td>30.47</td>\n",
       "      <td>30.01</td>\n",
       "      <td>30.42</td>\n",
       "      <td>0</td>\n",
       "      <td>11/02/2014</td>\n",
       "      <td>NaN</td>\n",
       "      <td>0</td>\n",
       "      <td>1</td>\n",
       "      <td>[object Object]</td>\n",
       "      <td>[object Object]</td>\n",
       "      <td>NaN</td>\n",
       "      <td>2014-02-11</td>\n",
       "    </tr>\n",
       "    <tr>\n",
       "      <th>2</th>\n",
       "      <td>30.44</td>\n",
       "      <td>30.68</td>\n",
       "      <td>30.30</td>\n",
       "      <td>30.54</td>\n",
       "      <td>0</td>\n",
       "      <td>2014-02-12T01:00:00+01:00</td>\n",
       "      <td>30.44</td>\n",
       "      <td>30.68</td>\n",
       "      <td>30.30</td>\n",
       "      <td>30.54</td>\n",
       "      <td>0</td>\n",
       "      <td>12/02/2014</td>\n",
       "      <td>NaN</td>\n",
       "      <td>0</td>\n",
       "      <td>1</td>\n",
       "      <td>[object Object]</td>\n",
       "      <td>[object Object]</td>\n",
       "      <td>NaN</td>\n",
       "      <td>2014-02-12</td>\n",
       "    </tr>\n",
       "    <tr>\n",
       "      <th>3</th>\n",
       "      <td>30.53</td>\n",
       "      <td>30.63</td>\n",
       "      <td>30.29</td>\n",
       "      <td>30.61</td>\n",
       "      <td>0</td>\n",
       "      <td>2014-02-13T01:00:00+01:00</td>\n",
       "      <td>30.53</td>\n",
       "      <td>30.63</td>\n",
       "      <td>30.29</td>\n",
       "      <td>30.61</td>\n",
       "      <td>0</td>\n",
       "      <td>13/02/2014</td>\n",
       "      <td>NaN</td>\n",
       "      <td>0</td>\n",
       "      <td>1</td>\n",
       "      <td>[object Object]</td>\n",
       "      <td>[object Object]</td>\n",
       "      <td>NaN</td>\n",
       "      <td>2014-02-13</td>\n",
       "    </tr>\n",
       "    <tr>\n",
       "      <th>4</th>\n",
       "      <td>30.56</td>\n",
       "      <td>31.02</td>\n",
       "      <td>30.56</td>\n",
       "      <td>30.96</td>\n",
       "      <td>0</td>\n",
       "      <td>2014-02-14T01:00:00+01:00</td>\n",
       "      <td>30.56</td>\n",
       "      <td>31.02</td>\n",
       "      <td>30.56</td>\n",
       "      <td>30.96</td>\n",
       "      <td>0</td>\n",
       "      <td>14/02/2014</td>\n",
       "      <td>NaN</td>\n",
       "      <td>0</td>\n",
       "      <td>1</td>\n",
       "      <td>[object Object]</td>\n",
       "      <td>[object Object]</td>\n",
       "      <td>NaN</td>\n",
       "      <td>2014-02-14</td>\n",
       "    </tr>\n",
       "  </tbody>\n",
       "</table>\n",
       "</div>"
      ],
      "text/plain": [
       "    open   high    low  close  volume                  timestamp  \\\n",
       "0  29.89  30.12  29.86  30.05       0  2014-02-10T01:00:00+01:00   \n",
       "1  30.03  30.47  30.01  30.42       0  2014-02-11T01:00:00+01:00   \n",
       "2  30.44  30.68  30.30  30.54       0  2014-02-12T01:00:00+01:00   \n",
       "3  30.53  30.63  30.29  30.61       0  2014-02-13T01:00:00+01:00   \n",
       "4  30.56  31.02  30.56  30.96       0  2014-02-14T01:00:00+01:00   \n",
       "\n",
       "   formattedOpen  formattedHigh  formattedLow  formattedClose  \\\n",
       "0          29.89          30.12         29.86           30.05   \n",
       "1          30.03          30.47         30.01           30.42   \n",
       "2          30.44          30.68         30.30           30.54   \n",
       "3          30.53          30.63         30.29           30.61   \n",
       "4          30.56          31.02         30.56           30.96   \n",
       "\n",
       "   formattedVolume formattedTimestamp  relatedNews  issue  redemption  \\\n",
       "0                0         10/02/2014          NaN      0           1   \n",
       "1                0         11/02/2014          NaN      0           1   \n",
       "2                0         12/02/2014          NaN      0           1   \n",
       "3                0         13/02/2014          NaN      0           1   \n",
       "4                0         14/02/2014          NaN      0           1   \n",
       "\n",
       "           highLow           peCode  newsPnacWithCsk        Date  \n",
       "0  [object Object]  [object Object]              NaN  2014-02-10  \n",
       "1  [object Object]  [object Object]              NaN  2014-02-11  \n",
       "2  [object Object]  [object Object]              NaN  2014-02-12  \n",
       "3  [object Object]  [object Object]              NaN  2014-02-13  \n",
       "4  [object Object]  [object Object]              NaN  2014-02-14  "
      ]
     },
     "execution_count": 9,
     "metadata": {},
     "output_type": "execute_result"
    }
   ],
   "source": [
    "df.head()"
   ]
  },
  {
   "cell_type": "code",
   "execution_count": 10,
   "metadata": {},
   "outputs": [
    {
     "data": {
      "text/plain": [
       "(2607, 19)"
      ]
     },
     "execution_count": 10,
     "metadata": {},
     "output_type": "execute_result"
    }
   ],
   "source": [
    "df.shape"
   ]
  },
  {
   "cell_type": "code",
   "execution_count": 11,
   "metadata": {},
   "outputs": [
    {
     "name": "stdout",
     "output_type": "stream",
     "text": [
      "<class 'pandas.core.frame.DataFrame'>\n",
      "RangeIndex: 2607 entries, 0 to 2606\n",
      "Data columns (total 19 columns):\n",
      " #   Column              Non-Null Count  Dtype  \n",
      "---  ------              --------------  -----  \n",
      " 0   open                2607 non-null   float64\n",
      " 1   high                2607 non-null   float64\n",
      " 2   low                 2607 non-null   float64\n",
      " 3   close               2607 non-null   float64\n",
      " 4   volume              2607 non-null   int64  \n",
      " 5   timestamp           2607 non-null   object \n",
      " 6   formattedOpen       2607 non-null   float64\n",
      " 7   formattedHigh       2607 non-null   float64\n",
      " 8   formattedLow        2607 non-null   float64\n",
      " 9   formattedClose      2607 non-null   float64\n",
      " 10  formattedVolume     2607 non-null   int64  \n",
      " 11  formattedTimestamp  2607 non-null   object \n",
      " 12  relatedNews         0 non-null      float64\n",
      " 13  issue               2607 non-null   int64  \n",
      " 14  redemption          2607 non-null   int64  \n",
      " 15  highLow             2607 non-null   object \n",
      " 16  peCode              2607 non-null   object \n",
      " 17  newsPnacWithCsk     0 non-null      float64\n",
      " 18  Date                2607 non-null   object \n",
      "dtypes: float64(10), int64(4), object(5)\n",
      "memory usage: 387.1+ KB\n"
     ]
    }
   ],
   "source": [
    "df.info()"
   ]
  },
  {
   "cell_type": "code",
   "execution_count": 12,
   "metadata": {},
   "outputs": [
    {
     "data": {
      "text/html": [
       "<div>\n",
       "<style scoped>\n",
       "    .dataframe tbody tr th:only-of-type {\n",
       "        vertical-align: middle;\n",
       "    }\n",
       "\n",
       "    .dataframe tbody tr th {\n",
       "        vertical-align: top;\n",
       "    }\n",
       "\n",
       "    .dataframe thead th {\n",
       "        text-align: right;\n",
       "    }\n",
       "</style>\n",
       "<table border=\"1\" class=\"dataframe\">\n",
       "  <thead>\n",
       "    <tr style=\"text-align: right;\">\n",
       "      <th></th>\n",
       "      <th>count</th>\n",
       "      <th>unique</th>\n",
       "      <th>top</th>\n",
       "      <th>freq</th>\n",
       "      <th>mean</th>\n",
       "      <th>std</th>\n",
       "      <th>min</th>\n",
       "      <th>25%</th>\n",
       "      <th>50%</th>\n",
       "      <th>75%</th>\n",
       "      <th>max</th>\n",
       "    </tr>\n",
       "  </thead>\n",
       "  <tbody>\n",
       "    <tr>\n",
       "      <th>open</th>\n",
       "      <td>2607.0</td>\n",
       "      <td>NaN</td>\n",
       "      <td>NaN</td>\n",
       "      <td>NaN</td>\n",
       "      <td>42.559582</td>\n",
       "      <td>9.502709</td>\n",
       "      <td>29.38</td>\n",
       "      <td>34.785</td>\n",
       "      <td>37.79</td>\n",
       "      <td>51.15</td>\n",
       "      <td>61.21</td>\n",
       "    </tr>\n",
       "    <tr>\n",
       "      <th>high</th>\n",
       "      <td>2607.0</td>\n",
       "      <td>NaN</td>\n",
       "      <td>NaN</td>\n",
       "      <td>NaN</td>\n",
       "      <td>42.823533</td>\n",
       "      <td>9.573921</td>\n",
       "      <td>29.47</td>\n",
       "      <td>34.94</td>\n",
       "      <td>38.0</td>\n",
       "      <td>51.47</td>\n",
       "      <td>63.24</td>\n",
       "    </tr>\n",
       "    <tr>\n",
       "      <th>low</th>\n",
       "      <td>2607.0</td>\n",
       "      <td>NaN</td>\n",
       "      <td>NaN</td>\n",
       "      <td>NaN</td>\n",
       "      <td>42.305501</td>\n",
       "      <td>9.434626</td>\n",
       "      <td>29.27</td>\n",
       "      <td>34.59</td>\n",
       "      <td>37.63</td>\n",
       "      <td>50.85</td>\n",
       "      <td>60.63</td>\n",
       "    </tr>\n",
       "    <tr>\n",
       "      <th>close</th>\n",
       "      <td>2607.0</td>\n",
       "      <td>NaN</td>\n",
       "      <td>NaN</td>\n",
       "      <td>NaN</td>\n",
       "      <td>42.566763</td>\n",
       "      <td>9.504255</td>\n",
       "      <td>29.41</td>\n",
       "      <td>34.78</td>\n",
       "      <td>37.81</td>\n",
       "      <td>51.155</td>\n",
       "      <td>61.21</td>\n",
       "    </tr>\n",
       "    <tr>\n",
       "      <th>volume</th>\n",
       "      <td>2607.0</td>\n",
       "      <td>NaN</td>\n",
       "      <td>NaN</td>\n",
       "      <td>NaN</td>\n",
       "      <td>0.0</td>\n",
       "      <td>0.0</td>\n",
       "      <td>0.0</td>\n",
       "      <td>0.0</td>\n",
       "      <td>0.0</td>\n",
       "      <td>0.0</td>\n",
       "      <td>0.0</td>\n",
       "    </tr>\n",
       "    <tr>\n",
       "      <th>timestamp</th>\n",
       "      <td>2607</td>\n",
       "      <td>2607</td>\n",
       "      <td>2014-02-10T01:00:00+01:00</td>\n",
       "      <td>1</td>\n",
       "      <td>NaN</td>\n",
       "      <td>NaN</td>\n",
       "      <td>NaN</td>\n",
       "      <td>NaN</td>\n",
       "      <td>NaN</td>\n",
       "      <td>NaN</td>\n",
       "      <td>NaN</td>\n",
       "    </tr>\n",
       "    <tr>\n",
       "      <th>formattedOpen</th>\n",
       "      <td>2607.0</td>\n",
       "      <td>NaN</td>\n",
       "      <td>NaN</td>\n",
       "      <td>NaN</td>\n",
       "      <td>42.559582</td>\n",
       "      <td>9.502709</td>\n",
       "      <td>29.38</td>\n",
       "      <td>34.785</td>\n",
       "      <td>37.79</td>\n",
       "      <td>51.15</td>\n",
       "      <td>61.21</td>\n",
       "    </tr>\n",
       "    <tr>\n",
       "      <th>formattedHigh</th>\n",
       "      <td>2607.0</td>\n",
       "      <td>NaN</td>\n",
       "      <td>NaN</td>\n",
       "      <td>NaN</td>\n",
       "      <td>42.823533</td>\n",
       "      <td>9.573921</td>\n",
       "      <td>29.47</td>\n",
       "      <td>34.94</td>\n",
       "      <td>38.0</td>\n",
       "      <td>51.47</td>\n",
       "      <td>63.24</td>\n",
       "    </tr>\n",
       "    <tr>\n",
       "      <th>formattedLow</th>\n",
       "      <td>2607.0</td>\n",
       "      <td>NaN</td>\n",
       "      <td>NaN</td>\n",
       "      <td>NaN</td>\n",
       "      <td>42.305501</td>\n",
       "      <td>9.434626</td>\n",
       "      <td>29.27</td>\n",
       "      <td>34.59</td>\n",
       "      <td>37.63</td>\n",
       "      <td>50.85</td>\n",
       "      <td>60.63</td>\n",
       "    </tr>\n",
       "    <tr>\n",
       "      <th>formattedClose</th>\n",
       "      <td>2607.0</td>\n",
       "      <td>NaN</td>\n",
       "      <td>NaN</td>\n",
       "      <td>NaN</td>\n",
       "      <td>42.566763</td>\n",
       "      <td>9.504255</td>\n",
       "      <td>29.41</td>\n",
       "      <td>34.78</td>\n",
       "      <td>37.81</td>\n",
       "      <td>51.155</td>\n",
       "      <td>61.21</td>\n",
       "    </tr>\n",
       "    <tr>\n",
       "      <th>formattedVolume</th>\n",
       "      <td>2607.0</td>\n",
       "      <td>NaN</td>\n",
       "      <td>NaN</td>\n",
       "      <td>NaN</td>\n",
       "      <td>0.0</td>\n",
       "      <td>0.0</td>\n",
       "      <td>0.0</td>\n",
       "      <td>0.0</td>\n",
       "      <td>0.0</td>\n",
       "      <td>0.0</td>\n",
       "      <td>0.0</td>\n",
       "    </tr>\n",
       "    <tr>\n",
       "      <th>formattedTimestamp</th>\n",
       "      <td>2607</td>\n",
       "      <td>2607</td>\n",
       "      <td>10/02/2014</td>\n",
       "      <td>1</td>\n",
       "      <td>NaN</td>\n",
       "      <td>NaN</td>\n",
       "      <td>NaN</td>\n",
       "      <td>NaN</td>\n",
       "      <td>NaN</td>\n",
       "      <td>NaN</td>\n",
       "      <td>NaN</td>\n",
       "    </tr>\n",
       "    <tr>\n",
       "      <th>relatedNews</th>\n",
       "      <td>0.0</td>\n",
       "      <td>NaN</td>\n",
       "      <td>NaN</td>\n",
       "      <td>NaN</td>\n",
       "      <td>NaN</td>\n",
       "      <td>NaN</td>\n",
       "      <td>NaN</td>\n",
       "      <td>NaN</td>\n",
       "      <td>NaN</td>\n",
       "      <td>NaN</td>\n",
       "      <td>NaN</td>\n",
       "    </tr>\n",
       "    <tr>\n",
       "      <th>issue</th>\n",
       "      <td>2607.0</td>\n",
       "      <td>NaN</td>\n",
       "      <td>NaN</td>\n",
       "      <td>NaN</td>\n",
       "      <td>0.0</td>\n",
       "      <td>0.0</td>\n",
       "      <td>0.0</td>\n",
       "      <td>0.0</td>\n",
       "      <td>0.0</td>\n",
       "      <td>0.0</td>\n",
       "      <td>0.0</td>\n",
       "    </tr>\n",
       "    <tr>\n",
       "      <th>redemption</th>\n",
       "      <td>2607.0</td>\n",
       "      <td>NaN</td>\n",
       "      <td>NaN</td>\n",
       "      <td>NaN</td>\n",
       "      <td>1.0</td>\n",
       "      <td>0.0</td>\n",
       "      <td>1.0</td>\n",
       "      <td>1.0</td>\n",
       "      <td>1.0</td>\n",
       "      <td>1.0</td>\n",
       "      <td>1.0</td>\n",
       "    </tr>\n",
       "    <tr>\n",
       "      <th>highLow</th>\n",
       "      <td>2607</td>\n",
       "      <td>1</td>\n",
       "      <td>[object Object]</td>\n",
       "      <td>2607</td>\n",
       "      <td>NaN</td>\n",
       "      <td>NaN</td>\n",
       "      <td>NaN</td>\n",
       "      <td>NaN</td>\n",
       "      <td>NaN</td>\n",
       "      <td>NaN</td>\n",
       "      <td>NaN</td>\n",
       "    </tr>\n",
       "    <tr>\n",
       "      <th>peCode</th>\n",
       "      <td>2607</td>\n",
       "      <td>1</td>\n",
       "      <td>[object Object]</td>\n",
       "      <td>2607</td>\n",
       "      <td>NaN</td>\n",
       "      <td>NaN</td>\n",
       "      <td>NaN</td>\n",
       "      <td>NaN</td>\n",
       "      <td>NaN</td>\n",
       "      <td>NaN</td>\n",
       "      <td>NaN</td>\n",
       "    </tr>\n",
       "    <tr>\n",
       "      <th>newsPnacWithCsk</th>\n",
       "      <td>0.0</td>\n",
       "      <td>NaN</td>\n",
       "      <td>NaN</td>\n",
       "      <td>NaN</td>\n",
       "      <td>NaN</td>\n",
       "      <td>NaN</td>\n",
       "      <td>NaN</td>\n",
       "      <td>NaN</td>\n",
       "      <td>NaN</td>\n",
       "      <td>NaN</td>\n",
       "      <td>NaN</td>\n",
       "    </tr>\n",
       "    <tr>\n",
       "      <th>Date</th>\n",
       "      <td>2607</td>\n",
       "      <td>2607</td>\n",
       "      <td>2014-02-10</td>\n",
       "      <td>1</td>\n",
       "      <td>NaN</td>\n",
       "      <td>NaN</td>\n",
       "      <td>NaN</td>\n",
       "      <td>NaN</td>\n",
       "      <td>NaN</td>\n",
       "      <td>NaN</td>\n",
       "      <td>NaN</td>\n",
       "    </tr>\n",
       "  </tbody>\n",
       "</table>\n",
       "</div>"
      ],
      "text/plain": [
       "                     count unique                        top  freq       mean  \\\n",
       "open                2607.0    NaN                        NaN   NaN  42.559582   \n",
       "high                2607.0    NaN                        NaN   NaN  42.823533   \n",
       "low                 2607.0    NaN                        NaN   NaN  42.305501   \n",
       "close               2607.0    NaN                        NaN   NaN  42.566763   \n",
       "volume              2607.0    NaN                        NaN   NaN        0.0   \n",
       "timestamp             2607   2607  2014-02-10T01:00:00+01:00     1        NaN   \n",
       "formattedOpen       2607.0    NaN                        NaN   NaN  42.559582   \n",
       "formattedHigh       2607.0    NaN                        NaN   NaN  42.823533   \n",
       "formattedLow        2607.0    NaN                        NaN   NaN  42.305501   \n",
       "formattedClose      2607.0    NaN                        NaN   NaN  42.566763   \n",
       "formattedVolume     2607.0    NaN                        NaN   NaN        0.0   \n",
       "formattedTimestamp    2607   2607                 10/02/2014     1        NaN   \n",
       "relatedNews            0.0    NaN                        NaN   NaN        NaN   \n",
       "issue               2607.0    NaN                        NaN   NaN        0.0   \n",
       "redemption          2607.0    NaN                        NaN   NaN        1.0   \n",
       "highLow               2607      1            [object Object]  2607        NaN   \n",
       "peCode                2607      1            [object Object]  2607        NaN   \n",
       "newsPnacWithCsk        0.0    NaN                        NaN   NaN        NaN   \n",
       "Date                  2607   2607                 2014-02-10     1        NaN   \n",
       "\n",
       "                         std    min     25%    50%     75%    max  \n",
       "open                9.502709  29.38  34.785  37.79   51.15  61.21  \n",
       "high                9.573921  29.47   34.94   38.0   51.47  63.24  \n",
       "low                 9.434626  29.27   34.59  37.63   50.85  60.63  \n",
       "close               9.504255  29.41   34.78  37.81  51.155  61.21  \n",
       "volume                   0.0    0.0     0.0    0.0     0.0    0.0  \n",
       "timestamp                NaN    NaN     NaN    NaN     NaN    NaN  \n",
       "formattedOpen       9.502709  29.38  34.785  37.79   51.15  61.21  \n",
       "formattedHigh       9.573921  29.47   34.94   38.0   51.47  63.24  \n",
       "formattedLow        9.434626  29.27   34.59  37.63   50.85  60.63  \n",
       "formattedClose      9.504255  29.41   34.78  37.81  51.155  61.21  \n",
       "formattedVolume          0.0    0.0     0.0    0.0     0.0    0.0  \n",
       "formattedTimestamp       NaN    NaN     NaN    NaN     NaN    NaN  \n",
       "relatedNews              NaN    NaN     NaN    NaN     NaN    NaN  \n",
       "issue                    0.0    0.0     0.0    0.0     0.0    0.0  \n",
       "redemption               0.0    1.0     1.0    1.0     1.0    1.0  \n",
       "highLow                  NaN    NaN     NaN    NaN     NaN    NaN  \n",
       "peCode                   NaN    NaN     NaN    NaN     NaN    NaN  \n",
       "newsPnacWithCsk          NaN    NaN     NaN    NaN     NaN    NaN  \n",
       "Date                     NaN    NaN     NaN    NaN     NaN    NaN  "
      ]
     },
     "execution_count": 12,
     "metadata": {},
     "output_type": "execute_result"
    }
   ],
   "source": [
    "df.describe(include=\"all\").T"
   ]
  },
  {
   "cell_type": "code",
   "execution_count": 13,
   "metadata": {},
   "outputs": [
    {
     "data": {
      "text/plain": [
       "open                  float64\n",
       "high                  float64\n",
       "low                   float64\n",
       "close                 float64\n",
       "volume                  int64\n",
       "timestamp              object\n",
       "formattedOpen         float64\n",
       "formattedHigh         float64\n",
       "formattedLow          float64\n",
       "formattedClose        float64\n",
       "formattedVolume         int64\n",
       "formattedTimestamp     object\n",
       "relatedNews           float64\n",
       "issue                   int64\n",
       "redemption              int64\n",
       "highLow                object\n",
       "peCode                 object\n",
       "newsPnacWithCsk       float64\n",
       "Date                   object\n",
       "dtype: object"
      ]
     },
     "execution_count": 13,
     "metadata": {},
     "output_type": "execute_result"
    }
   ],
   "source": [
    "df.dtypes"
   ]
  },
  {
   "cell_type": "code",
   "execution_count": 14,
   "metadata": {},
   "outputs": [
    {
     "data": {
      "text/plain": [
       "open                         float64\n",
       "high                         float64\n",
       "low                          float64\n",
       "close                        float64\n",
       "volume                         int64\n",
       "timestamp                     object\n",
       "formattedOpen                float64\n",
       "formattedHigh                float64\n",
       "formattedLow                 float64\n",
       "formattedClose               float64\n",
       "formattedVolume                int64\n",
       "formattedTimestamp            object\n",
       "relatedNews                  float64\n",
       "issue                          int64\n",
       "redemption                     int64\n",
       "highLow                       object\n",
       "peCode                        object\n",
       "newsPnacWithCsk              float64\n",
       "Date                  datetime64[ns]\n",
       "dtype: object"
      ]
     },
     "execution_count": 14,
     "metadata": {},
     "output_type": "execute_result"
    }
   ],
   "source": [
    "# Per le conversioni di oggetti datetime piu' complessi vedere: https://docs.python.org/3/library/datetime.html\n",
    "\n",
    "df.Date\n",
    "\n",
    "df.Date = pd.to_datetime(df.Date)\n",
    "\n",
    "df.dtypes"
   ]
  },
  {
   "cell_type": "code",
   "execution_count": 15,
   "metadata": {},
   "outputs": [],
   "source": [
    "df = df.set_index(\"Date\")"
   ]
  },
  {
   "cell_type": "code",
   "execution_count": 16,
   "metadata": {},
   "outputs": [],
   "source": [
    "df_quotaz = df.loc[:,[\"open\", \"high\", \"low\", \"close\"]]"
   ]
  },
  {
   "cell_type": "code",
   "execution_count": 17,
   "metadata": {},
   "outputs": [
    {
     "data": {
      "text/plain": [
       "0"
      ]
     },
     "execution_count": 17,
     "metadata": {},
     "output_type": "execute_result"
    }
   ],
   "source": [
    "df_quotaz.isna().sum().sum()"
   ]
  },
  {
   "cell_type": "code",
   "execution_count": 18,
   "metadata": {},
   "outputs": [
    {
     "data": {
      "text/plain": [
       "DatetimeIndex(['2014-02-10', '2014-02-11', '2014-02-12', '2014-02-13',\n",
       "               '2014-02-14', '2014-02-17', '2014-02-18', '2014-02-19',\n",
       "               '2014-02-20', '2014-02-21',\n",
       "               ...\n",
       "               '2024-01-25', '2024-01-26', '2024-01-29', '2024-01-30',\n",
       "               '2024-01-31', '2024-02-01', '2024-02-02', '2024-02-05',\n",
       "               '2024-02-06', '2024-02-07'],\n",
       "              dtype='datetime64[ns]', name='Date', length=2607, freq=None)"
      ]
     },
     "execution_count": 18,
     "metadata": {},
     "output_type": "execute_result"
    }
   ],
   "source": [
    "df_quotaz.index"
   ]
  },
  {
   "cell_type": "code",
   "execution_count": 19,
   "metadata": {},
   "outputs": [
    {
     "data": {
      "text/html": [
       "<div>\n",
       "<style scoped>\n",
       "    .dataframe tbody tr th:only-of-type {\n",
       "        vertical-align: middle;\n",
       "    }\n",
       "\n",
       "    .dataframe tbody tr th {\n",
       "        vertical-align: top;\n",
       "    }\n",
       "\n",
       "    .dataframe thead th {\n",
       "        text-align: right;\n",
       "    }\n",
       "</style>\n",
       "<table border=\"1\" class=\"dataframe\">\n",
       "  <thead>\n",
       "    <tr style=\"text-align: right;\">\n",
       "      <th></th>\n",
       "      <th>open</th>\n",
       "      <th>high</th>\n",
       "      <th>low</th>\n",
       "      <th>close</th>\n",
       "    </tr>\n",
       "    <tr>\n",
       "      <th>Date</th>\n",
       "      <th></th>\n",
       "      <th></th>\n",
       "      <th></th>\n",
       "      <th></th>\n",
       "    </tr>\n",
       "  </thead>\n",
       "  <tbody>\n",
       "    <tr>\n",
       "      <th>2014-02-10</th>\n",
       "      <td>29.89</td>\n",
       "      <td>30.12</td>\n",
       "      <td>29.86</td>\n",
       "      <td>30.05</td>\n",
       "    </tr>\n",
       "    <tr>\n",
       "      <th>2014-02-11</th>\n",
       "      <td>30.03</td>\n",
       "      <td>30.47</td>\n",
       "      <td>30.01</td>\n",
       "      <td>30.42</td>\n",
       "    </tr>\n",
       "    <tr>\n",
       "      <th>2014-02-12</th>\n",
       "      <td>30.44</td>\n",
       "      <td>30.68</td>\n",
       "      <td>30.30</td>\n",
       "      <td>30.54</td>\n",
       "    </tr>\n",
       "    <tr>\n",
       "      <th>2014-02-13</th>\n",
       "      <td>30.53</td>\n",
       "      <td>30.63</td>\n",
       "      <td>30.29</td>\n",
       "      <td>30.61</td>\n",
       "    </tr>\n",
       "    <tr>\n",
       "      <th>2014-02-14</th>\n",
       "      <td>30.56</td>\n",
       "      <td>31.02</td>\n",
       "      <td>30.56</td>\n",
       "      <td>30.96</td>\n",
       "    </tr>\n",
       "  </tbody>\n",
       "</table>\n",
       "</div>"
      ],
      "text/plain": [
       "             open   high    low  close\n",
       "Date                                  \n",
       "2014-02-10  29.89  30.12  29.86  30.05\n",
       "2014-02-11  30.03  30.47  30.01  30.42\n",
       "2014-02-12  30.44  30.68  30.30  30.54\n",
       "2014-02-13  30.53  30.63  30.29  30.61\n",
       "2014-02-14  30.56  31.02  30.56  30.96"
      ]
     },
     "execution_count": 19,
     "metadata": {},
     "output_type": "execute_result"
    }
   ],
   "source": [
    "df_quotaz.head()"
   ]
  },
  {
   "cell_type": "code",
   "execution_count": 20,
   "metadata": {},
   "outputs": [
    {
     "data": {
      "text/plain": [
       "Date\n",
       "2014-02-10    30.05\n",
       "2014-02-11    30.42\n",
       "2014-02-12    30.54\n",
       "2014-02-13    30.61\n",
       "2014-02-14    30.96\n",
       "              ...  \n",
       "2024-02-01    60.76\n",
       "2024-02-02    60.79\n",
       "2024-02-05    60.61\n",
       "2024-02-06    60.86\n",
       "2024-02-07    60.74\n",
       "Name: close, Length: 2607, dtype: float64"
      ]
     },
     "execution_count": 20,
     "metadata": {},
     "output_type": "execute_result"
    }
   ],
   "source": [
    "df_quotaz.close"
   ]
  },
  {
   "cell_type": "code",
   "execution_count": 21,
   "metadata": {},
   "outputs": [
    {
     "data": {
      "text/plain": [
       "<Axes: xlabel='Date', ylabel='close'>"
      ]
     },
     "execution_count": 21,
     "metadata": {},
     "output_type": "execute_result"
    },
    {
     "data": {
      "image/png": "[encoded data removed]",
      "text/plain": [
       "<Figure size 640x480 with 1 Axes>"
      ]
     },
     "metadata": {},
     "output_type": "display_data"
    }
   ],
   "source": [
    "sns.scatterplot(x = df_quotaz.index, y = df_quotaz.close)"
   ]
  },
  {
   "cell_type": "markdown",
   "metadata": {},
   "source": [
    "## Feature Engenireeng"
   ]
  },
  {
   "cell_type": "code",
   "execution_count": 22,
   "metadata": {},
   "outputs": [
    {
     "data": {
      "text/html": [
       "<div>\n",
       "<style scoped>\n",
       "    .dataframe tbody tr th:only-of-type {\n",
       "        vertical-align: middle;\n",
       "    }\n",
       "\n",
       "    .dataframe tbody tr th {\n",
       "        vertical-align: top;\n",
       "    }\n",
       "\n",
       "    .dataframe thead th {\n",
       "        text-align: right;\n",
       "    }\n",
       "</style>\n",
       "<table border=\"1\" class=\"dataframe\">\n",
       "  <thead>\n",
       "    <tr style=\"text-align: right;\">\n",
       "      <th></th>\n",
       "      <th>open</th>\n",
       "      <th>high</th>\n",
       "      <th>low</th>\n",
       "      <th>close</th>\n",
       "    </tr>\n",
       "    <tr>\n",
       "      <th>Date</th>\n",
       "      <th></th>\n",
       "      <th></th>\n",
       "      <th></th>\n",
       "      <th></th>\n",
       "    </tr>\n",
       "  </thead>\n",
       "  <tbody>\n",
       "    <tr>\n",
       "      <th>2014-02-10</th>\n",
       "      <td>29.89</td>\n",
       "      <td>30.12</td>\n",
       "      <td>29.86</td>\n",
       "      <td>30.05</td>\n",
       "    </tr>\n",
       "    <tr>\n",
       "      <th>2014-02-11</th>\n",
       "      <td>30.03</td>\n",
       "      <td>30.47</td>\n",
       "      <td>30.01</td>\n",
       "      <td>30.42</td>\n",
       "    </tr>\n",
       "    <tr>\n",
       "      <th>2014-02-12</th>\n",
       "      <td>30.44</td>\n",
       "      <td>30.68</td>\n",
       "      <td>30.30</td>\n",
       "      <td>30.54</td>\n",
       "    </tr>\n",
       "    <tr>\n",
       "      <th>2014-02-13</th>\n",
       "      <td>30.53</td>\n",
       "      <td>30.63</td>\n",
       "      <td>30.29</td>\n",
       "      <td>30.61</td>\n",
       "    </tr>\n",
       "    <tr>\n",
       "      <th>2014-02-14</th>\n",
       "      <td>30.56</td>\n",
       "      <td>31.02</td>\n",
       "      <td>30.56</td>\n",
       "      <td>30.96</td>\n",
       "    </tr>\n",
       "  </tbody>\n",
       "</table>\n",
       "</div>"
      ],
      "text/plain": [
       "             open   high    low  close\n",
       "Date                                  \n",
       "2014-02-10  29.89  30.12  29.86  30.05\n",
       "2014-02-11  30.03  30.47  30.01  30.42\n",
       "2014-02-12  30.44  30.68  30.30  30.54\n",
       "2014-02-13  30.53  30.63  30.29  30.61\n",
       "2014-02-14  30.56  31.02  30.56  30.96"
      ]
     },
     "execution_count": 22,
     "metadata": {},
     "output_type": "execute_result"
    }
   ],
   "source": [
    "df_quotaz.head()"
   ]
  },
  {
   "cell_type": "code",
   "execution_count": 23,
   "metadata": {},
   "outputs": [],
   "source": [
    "df_quotaz[\"delta\"] = df_quotaz.high - df_quotaz.low\n",
    "df_quotaz[\"mean_gold\"] = (df_quotaz.open + df_quotaz.close) /2 "
   ]
  },
  {
   "cell_type": "code",
   "execution_count": 24,
   "metadata": {},
   "outputs": [
    {
     "data": {
      "text/html": [
       "<div>\n",
       "<style scoped>\n",
       "    .dataframe tbody tr th:only-of-type {\n",
       "        vertical-align: middle;\n",
       "    }\n",
       "\n",
       "    .dataframe tbody tr th {\n",
       "        vertical-align: top;\n",
       "    }\n",
       "\n",
       "    .dataframe thead th {\n",
       "        text-align: right;\n",
       "    }\n",
       "</style>\n",
       "<table border=\"1\" class=\"dataframe\">\n",
       "  <thead>\n",
       "    <tr style=\"text-align: right;\">\n",
       "      <th></th>\n",
       "      <th>open</th>\n",
       "      <th>high</th>\n",
       "      <th>low</th>\n",
       "      <th>close</th>\n",
       "      <th>delta</th>\n",
       "      <th>mean_gold</th>\n",
       "    </tr>\n",
       "    <tr>\n",
       "      <th>Date</th>\n",
       "      <th></th>\n",
       "      <th></th>\n",
       "      <th></th>\n",
       "      <th></th>\n",
       "      <th></th>\n",
       "      <th></th>\n",
       "    </tr>\n",
       "  </thead>\n",
       "  <tbody>\n",
       "    <tr>\n",
       "      <th>2014-02-10</th>\n",
       "      <td>29.89</td>\n",
       "      <td>30.12</td>\n",
       "      <td>29.86</td>\n",
       "      <td>30.05</td>\n",
       "      <td>0.26</td>\n",
       "      <td>29.970</td>\n",
       "    </tr>\n",
       "    <tr>\n",
       "      <th>2014-02-11</th>\n",
       "      <td>30.03</td>\n",
       "      <td>30.47</td>\n",
       "      <td>30.01</td>\n",
       "      <td>30.42</td>\n",
       "      <td>0.46</td>\n",
       "      <td>30.225</td>\n",
       "    </tr>\n",
       "    <tr>\n",
       "      <th>2014-02-12</th>\n",
       "      <td>30.44</td>\n",
       "      <td>30.68</td>\n",
       "      <td>30.30</td>\n",
       "      <td>30.54</td>\n",
       "      <td>0.38</td>\n",
       "      <td>30.490</td>\n",
       "    </tr>\n",
       "    <tr>\n",
       "      <th>2014-02-13</th>\n",
       "      <td>30.53</td>\n",
       "      <td>30.63</td>\n",
       "      <td>30.29</td>\n",
       "      <td>30.61</td>\n",
       "      <td>0.34</td>\n",
       "      <td>30.570</td>\n",
       "    </tr>\n",
       "    <tr>\n",
       "      <th>2014-02-14</th>\n",
       "      <td>30.56</td>\n",
       "      <td>31.02</td>\n",
       "      <td>30.56</td>\n",
       "      <td>30.96</td>\n",
       "      <td>0.46</td>\n",
       "      <td>30.760</td>\n",
       "    </tr>\n",
       "  </tbody>\n",
       "</table>\n",
       "</div>"
      ],
      "text/plain": [
       "             open   high    low  close  delta  mean_gold\n",
       "Date                                                    \n",
       "2014-02-10  29.89  30.12  29.86  30.05   0.26     29.970\n",
       "2014-02-11  30.03  30.47  30.01  30.42   0.46     30.225\n",
       "2014-02-12  30.44  30.68  30.30  30.54   0.38     30.490\n",
       "2014-02-13  30.53  30.63  30.29  30.61   0.34     30.570\n",
       "2014-02-14  30.56  31.02  30.56  30.96   0.46     30.760"
      ]
     },
     "execution_count": 24,
     "metadata": {},
     "output_type": "execute_result"
    }
   ],
   "source": [
    "df_quotaz.head()"
   ]
  },
  {
   "cell_type": "code",
   "execution_count": 25,
   "metadata": {},
   "outputs": [],
   "source": [
    "df_quotaz[\"day\"] = df_quotaz.index.day\n",
    "df_quotaz[\"month\"] = df_quotaz.index.month\n",
    "df_quotaz[\"year\"] = df_quotaz.index.year"
   ]
  },
  {
   "cell_type": "code",
   "execution_count": 26,
   "metadata": {},
   "outputs": [
    {
     "data": {
      "text/html": [
       "<div>\n",
       "<style scoped>\n",
       "    .dataframe tbody tr th:only-of-type {\n",
       "        vertical-align: middle;\n",
       "    }\n",
       "\n",
       "    .dataframe tbody tr th {\n",
       "        vertical-align: top;\n",
       "    }\n",
       "\n",
       "    .dataframe thead th {\n",
       "        text-align: right;\n",
       "    }\n",
       "</style>\n",
       "<table border=\"1\" class=\"dataframe\">\n",
       "  <thead>\n",
       "    <tr style=\"text-align: right;\">\n",
       "      <th></th>\n",
       "      <th>open</th>\n",
       "      <th>high</th>\n",
       "      <th>low</th>\n",
       "      <th>close</th>\n",
       "      <th>delta</th>\n",
       "      <th>mean_gold</th>\n",
       "      <th>day</th>\n",
       "      <th>month</th>\n",
       "      <th>year</th>\n",
       "    </tr>\n",
       "    <tr>\n",
       "      <th>Date</th>\n",
       "      <th></th>\n",
       "      <th></th>\n",
       "      <th></th>\n",
       "      <th></th>\n",
       "      <th></th>\n",
       "      <th></th>\n",
       "      <th></th>\n",
       "      <th></th>\n",
       "      <th></th>\n",
       "    </tr>\n",
       "  </thead>\n",
       "  <tbody>\n",
       "    <tr>\n",
       "      <th>2014-02-10</th>\n",
       "      <td>29.89</td>\n",
       "      <td>30.12</td>\n",
       "      <td>29.86</td>\n",
       "      <td>30.05</td>\n",
       "      <td>0.26</td>\n",
       "      <td>29.970</td>\n",
       "      <td>10</td>\n",
       "      <td>2</td>\n",
       "      <td>2014</td>\n",
       "    </tr>\n",
       "    <tr>\n",
       "      <th>2014-02-11</th>\n",
       "      <td>30.03</td>\n",
       "      <td>30.47</td>\n",
       "      <td>30.01</td>\n",
       "      <td>30.42</td>\n",
       "      <td>0.46</td>\n",
       "      <td>30.225</td>\n",
       "      <td>11</td>\n",
       "      <td>2</td>\n",
       "      <td>2014</td>\n",
       "    </tr>\n",
       "    <tr>\n",
       "      <th>2014-02-12</th>\n",
       "      <td>30.44</td>\n",
       "      <td>30.68</td>\n",
       "      <td>30.30</td>\n",
       "      <td>30.54</td>\n",
       "      <td>0.38</td>\n",
       "      <td>30.490</td>\n",
       "      <td>12</td>\n",
       "      <td>2</td>\n",
       "      <td>2014</td>\n",
       "    </tr>\n",
       "    <tr>\n",
       "      <th>2014-02-13</th>\n",
       "      <td>30.53</td>\n",
       "      <td>30.63</td>\n",
       "      <td>30.29</td>\n",
       "      <td>30.61</td>\n",
       "      <td>0.34</td>\n",
       "      <td>30.570</td>\n",
       "      <td>13</td>\n",
       "      <td>2</td>\n",
       "      <td>2014</td>\n",
       "    </tr>\n",
       "    <tr>\n",
       "      <th>2014-02-14</th>\n",
       "      <td>30.56</td>\n",
       "      <td>31.02</td>\n",
       "      <td>30.56</td>\n",
       "      <td>30.96</td>\n",
       "      <td>0.46</td>\n",
       "      <td>30.760</td>\n",
       "      <td>14</td>\n",
       "      <td>2</td>\n",
       "      <td>2014</td>\n",
       "    </tr>\n",
       "  </tbody>\n",
       "</table>\n",
       "</div>"
      ],
      "text/plain": [
       "             open   high    low  close  delta  mean_gold  day  month  year\n",
       "Date                                                                      \n",
       "2014-02-10  29.89  30.12  29.86  30.05   0.26     29.970   10      2  2014\n",
       "2014-02-11  30.03  30.47  30.01  30.42   0.46     30.225   11      2  2014\n",
       "2014-02-12  30.44  30.68  30.30  30.54   0.38     30.490   12      2  2014\n",
       "2014-02-13  30.53  30.63  30.29  30.61   0.34     30.570   13      2  2014\n",
       "2014-02-14  30.56  31.02  30.56  30.96   0.46     30.760   14      2  2014"
      ]
     },
     "execution_count": 26,
     "metadata": {},
     "output_type": "execute_result"
    }
   ],
   "source": [
    "df_quotaz.head()"
   ]
  },
  {
   "cell_type": "code",
   "execution_count": 30,
   "metadata": {},
   "outputs": [],
   "source": [
    "X = df_quotaz.loc[:, [\"day\", \"month\", \"year\"]]\n",
    "y = df_quotaz.mean_gold\n",
    "\n"
   ]
  },
  {
   "cell_type": "code",
   "execution_count": 31,
   "metadata": {},
   "outputs": [
    {
     "data": {
      "text/html": [
       "<div>\n",
       "<style scoped>\n",
       "    .dataframe tbody tr th:only-of-type {\n",
       "        vertical-align: middle;\n",
       "    }\n",
       "\n",
       "    .dataframe tbody tr th {\n",
       "        vertical-align: top;\n",
       "    }\n",
       "\n",
       "    .dataframe thead th {\n",
       "        text-align: right;\n",
       "    }\n",
       "</style>\n",
       "<table border=\"1\" class=\"dataframe\">\n",
       "  <thead>\n",
       "    <tr style=\"text-align: right;\">\n",
       "      <th></th>\n",
       "      <th>day</th>\n",
       "      <th>month</th>\n",
       "      <th>year</th>\n",
       "    </tr>\n",
       "    <tr>\n",
       "      <th>Date</th>\n",
       "      <th></th>\n",
       "      <th></th>\n",
       "      <th></th>\n",
       "    </tr>\n",
       "  </thead>\n",
       "  <tbody>\n",
       "    <tr>\n",
       "      <th>2014-02-10</th>\n",
       "      <td>10</td>\n",
       "      <td>2</td>\n",
       "      <td>2014</td>\n",
       "    </tr>\n",
       "    <tr>\n",
       "      <th>2014-02-11</th>\n",
       "      <td>11</td>\n",
       "      <td>2</td>\n",
       "      <td>2014</td>\n",
       "    </tr>\n",
       "    <tr>\n",
       "      <th>2014-02-12</th>\n",
       "      <td>12</td>\n",
       "      <td>2</td>\n",
       "      <td>2014</td>\n",
       "    </tr>\n",
       "    <tr>\n",
       "      <th>2014-02-13</th>\n",
       "      <td>13</td>\n",
       "      <td>2</td>\n",
       "      <td>2014</td>\n",
       "    </tr>\n",
       "    <tr>\n",
       "      <th>2014-02-14</th>\n",
       "      <td>14</td>\n",
       "      <td>2</td>\n",
       "      <td>2014</td>\n",
       "    </tr>\n",
       "  </tbody>\n",
       "</table>\n",
       "</div>"
      ],
      "text/plain": [
       "            day  month  year\n",
       "Date                        \n",
       "2014-02-10   10      2  2014\n",
       "2014-02-11   11      2  2014\n",
       "2014-02-12   12      2  2014\n",
       "2014-02-13   13      2  2014\n",
       "2014-02-14   14      2  2014"
      ]
     },
     "execution_count": 31,
     "metadata": {},
     "output_type": "execute_result"
    }
   ],
   "source": [
    "X.head()"
   ]
  },
  {
   "cell_type": "code",
   "execution_count": 32,
   "metadata": {},
   "outputs": [
    {
     "data": {
      "text/plain": [
       "Date\n",
       "2014-02-10    29.970\n",
       "2014-02-11    30.225\n",
       "2014-02-12    30.490\n",
       "2014-02-13    30.570\n",
       "2014-02-14    30.760\n",
       "               ...  \n",
       "2024-02-01    60.695\n",
       "2024-02-02    60.775\n",
       "2024-02-05    60.715\n",
       "2024-02-06    60.735\n",
       "2024-02-07    60.795\n",
       "Name: mean_gold, Length: 2607, dtype: float64"
      ]
     },
     "execution_count": 32,
     "metadata": {},
     "output_type": "execute_result"
    }
   ],
   "source": [
    "y"
   ]
  },
  {
   "cell_type": "code",
   "execution_count": 33,
   "metadata": {},
   "outputs": [
    {
     "data": {
      "text/plain": [
       "((2607, 3), (2607,))"
      ]
     },
     "execution_count": 33,
     "metadata": {},
     "output_type": "execute_result"
    }
   ],
   "source": [
    "X.shape, y.shape"
   ]
  },
  {
   "cell_type": "code",
   "execution_count": 36,
   "metadata": {},
   "outputs": [
    {
     "data": {
      "text/plain": [
       "((2085, 3), (522, 3), (2085,), (522,))"
      ]
     },
     "execution_count": 36,
     "metadata": {},
     "output_type": "execute_result"
    }
   ],
   "source": [
    "X_train, X_test, y_train, y_test = train_test_split(X, y, random_state=SEED, train_size=.8)\n",
    "X_train.shape, X_test.shape, y_train.shape, y_test.shape"
   ]
  },
  {
   "cell_type": "code",
   "execution_count": 37,
   "metadata": {},
   "outputs": [
    {
     "data": {
      "text/html": [
       "<style>#sk-container-id-1 {color: black;}#sk-container-id-1 pre{padding: 0;}#sk-container-id-1 div.sk-toggleable {background-color: white;}#sk-container-id-1 label.sk-toggleable__label {cursor: pointer;display: block;width: 100%;margin-bottom: 0;padding: 0.3em;box-sizing: border-box;text-align: center;}#sk-container-id-1 label.sk-toggleable__label-arrow:before {content: \"▸\";float: left;margin-right: 0.25em;color: #696969;}#sk-container-id-1 label.sk-toggleable__label-arrow:hover:before {color: black;}#sk-container-id-1 div.sk-estimator:hover label.sk-toggleable__label-arrow:before {color: black;}#sk-container-id-1 div.sk-toggleable__content {max-height: 0;max-width: 0;overflow: hidden;text-align: left;background-color: #f0f8ff;}#sk-container-id-1 div.sk-toggleable__content pre {margin: 0.2em;color: black;border-radius: 0.25em;background-color: #f0f8ff;}#sk-container-id-1 input.sk-toggleable__control:checked~div.sk-toggleable__content {max-height: 200px;max-width: 100%;overflow: auto;}#sk-container-id-1 input.sk-toggleable__control:checked~label.sk-toggleable__label-arrow:before {content: \"▾\";}#sk-container-id-1 div.sk-estimator input.sk-toggleable__control:checked~label.sk-toggleable__label {background-color: #d4ebff;}#sk-container-id-1 div.sk-label input.sk-toggleable__control:checked~label.sk-toggleable__label {background-color: #d4ebff;}#sk-container-id-1 input.sk-hidden--visually {border: 0;clip: rect(1px 1px 1px 1px);clip: rect(1px, 1px, 1px, 1px);height: 1px;margin: -1px;overflow: hidden;padding: 0;position: absolute;width: 1px;}#sk-container-id-1 div.sk-estimator {font-family: monospace;background-color: #f0f8ff;border: 1px dotted black;border-radius: 0.25em;box-sizing: border-box;margin-bottom: 0.5em;}#sk-container-id-1 div.sk-estimator:hover {background-color: #d4ebff;}#sk-container-id-1 div.sk-parallel-item::after {content: \"\";width: 100%;border-bottom: 1px solid gray;flex-grow: 1;}#sk-container-id-1 div.sk-label:hover label.sk-toggleable__label {background-color: #d4ebff;}#sk-container-id-1 div.sk-serial::before {content: \"\";position: absolute;border-left: 1px solid gray;box-sizing: border-box;top: 0;bottom: 0;left: 50%;z-index: 0;}#sk-container-id-1 div.sk-serial {display: flex;flex-direction: column;align-items: center;background-color: white;padding-right: 0.2em;padding-left: 0.2em;position: relative;}#sk-container-id-1 div.sk-item {position: relative;z-index: 1;}#sk-container-id-1 div.sk-parallel {display: flex;align-items: stretch;justify-content: center;background-color: white;position: relative;}#sk-container-id-1 div.sk-item::before, #sk-container-id-1 div.sk-parallel-item::before {content: \"\";position: absolute;border-left: 1px solid gray;box-sizing: border-box;top: 0;bottom: 0;left: 50%;z-index: -1;}#sk-container-id-1 div.sk-parallel-item {display: flex;flex-direction: column;z-index: 1;position: relative;background-color: white;}#sk-container-id-1 div.sk-parallel-item:first-child::after {align-self: flex-end;width: 50%;}#sk-container-id-1 div.sk-parallel-item:last-child::after {align-self: flex-start;width: 50%;}#sk-container-id-1 div.sk-parallel-item:only-child::after {width: 0;}#sk-container-id-1 div.sk-dashed-wrapped {border: 1px dashed gray;margin: 0 0.4em 0.5em 0.4em;box-sizing: border-box;padding-bottom: 0.4em;background-color: white;}#sk-container-id-1 div.sk-label label {font-family: monospace;font-weight: bold;display: inline-block;line-height: 1.2em;}#sk-container-id-1 div.sk-label-container {text-align: center;}#sk-container-id-1 div.sk-container {/* jupyter's `normalize.less` sets `[hidden] { display: none; }` but bootstrap.min.css set `[hidden] { display: none !important; }` so we also need the `!important` here to be able to override the default hidden behavior on the sphinx rendered scikit-learn.org. See: https://github.com/scikit-learn/scikit-learn/issues/21755 */display: inline-block !important;position: relative;}#sk-container-id-1 div.sk-text-repr-fallback {display: none;}</style><div id=\"sk-container-id-1\" class=\"sk-top-container\"><div class=\"sk-text-repr-fallback\"><pre>LinearRegression()</pre><b>In a Jupyter environment, please rerun this cell to show the HTML representation or trust the notebook. <br />On GitHub, the HTML representation is unable to render, please try loading this page with nbviewer.org.</b></div><div class=\"sk-container\" hidden><div class=\"sk-item\"><div class=\"sk-estimator sk-toggleable\"><input class=\"sk-toggleable__control sk-hidden--visually\" id=\"sk-estimator-id-1\" type=\"checkbox\" checked><label for=\"sk-estimator-id-1\" class=\"sk-toggleable__label sk-toggleable__label-arrow\">LinearRegression</label><div class=\"sk-toggleable__content\"><pre>LinearRegression()</pre></div></div></div></div></div>"
      ],
      "text/plain": [
       "LinearRegression()"
      ]
     },
     "execution_count": 37,
     "metadata": {},
     "output_type": "execute_result"
    }
   ],
   "source": [
    "linear_model = LinearRegression()\n",
    "\n",
    "linear_model.fit(X_train, y_train)"
   ]
  },
  {
   "cell_type": "code",
   "execution_count": 38,
   "metadata": {},
   "outputs": [
    {
     "data": {
      "text/plain": [
       "(array([0.00739648, 0.16117046, 3.07454481]), -6164.895723910343)"
      ]
     },
     "execution_count": 38,
     "metadata": {},
     "output_type": "execute_result"
    }
   ],
   "source": [
    "linear_model.coef_, linear_model.intercept_"
   ]
  },
  {
   "cell_type": "code",
   "execution_count": 39,
   "metadata": {},
   "outputs": [
    {
     "data": {
      "text/plain": [
       "0.8758195313386775"
      ]
     },
     "execution_count": 39,
     "metadata": {},
     "output_type": "execute_result"
    }
   ],
   "source": [
    "linear_model.score(X_train, y_train)"
   ]
  },
  {
   "cell_type": "code",
   "execution_count": 40,
   "metadata": {},
   "outputs": [
    {
     "data": {
      "text/plain": [
       "0.8718780756750811"
      ]
     },
     "execution_count": 40,
     "metadata": {},
     "output_type": "execute_result"
    }
   ],
   "source": [
    "linear_model.score(X_test, y_test)"
   ]
  },
  {
   "cell_type": "code",
   "execution_count": 41,
   "metadata": {},
   "outputs": [],
   "source": [
    "y_predicted = linear_model.predict(X)"
   ]
  },
  {
   "cell_type": "code",
   "execution_count": 42,
   "metadata": {},
   "outputs": [
    {
     "data": {
      "text/plain": [
       "array([27.63382237, 27.64121885, 27.64861533, ..., 58.34228802,\n",
       "       58.34968451, 58.35708099])"
      ]
     },
     "execution_count": 42,
     "metadata": {},
     "output_type": "execute_result"
    }
   ],
   "source": [
    "y_predicted"
   ]
  },
  {
   "cell_type": "code",
   "execution_count": 43,
   "metadata": {},
   "outputs": [
    {
     "data": {
      "text/plain": [
       "Date\n",
       "2014-02-10    29.970\n",
       "2014-02-11    30.225\n",
       "2014-02-12    30.490\n",
       "2014-02-13    30.570\n",
       "2014-02-14    30.760\n",
       "               ...  \n",
       "2024-02-01    60.695\n",
       "2024-02-02    60.775\n",
       "2024-02-05    60.715\n",
       "2024-02-06    60.735\n",
       "2024-02-07    60.795\n",
       "Name: mean_gold, Length: 2607, dtype: float64"
      ]
     },
     "execution_count": 43,
     "metadata": {},
     "output_type": "execute_result"
    }
   ],
   "source": [
    "y"
   ]
  },
  {
   "cell_type": "code",
   "execution_count": 44,
   "metadata": {},
   "outputs": [
    {
     "data": {
      "image/png": "[encoded data removed]",
      "text/plain": [
       "<Figure size 640x480 with 1 Axes>"
      ]
     },
     "metadata": {},
     "output_type": "display_data"
    }
   ],
   "source": [
    "plt.plot(df_quotaz.index, y)\n",
    "plt.plot(df_quotaz.index, y_predicted)\n",
    "\n",
    "plt.show()"
   ]
  },
  {
   "cell_type": "code",
   "execution_count": 50,
   "metadata": {},
   "outputs": [
    {
     "name": "stderr",
     "output_type": "stream",
     "text": [
      "c:\\Users\\simon\\anaconda3\\envs\\AIDS_Base_310\\lib\\site-packages\\sklearn\\base.py:464: UserWarning: X does not have valid feature names, but LinearRegression was fitted with feature names\n",
      "  warnings.warn(\n"
     ]
    },
    {
     "data": {
      "text/plain": [
       "array([73.75199447])"
      ]
     },
     "execution_count": 50,
     "metadata": {},
     "output_type": "execute_result"
    }
   ],
   "source": [
    "linear_model.predict([[10,2,2029]])"
   ]
  },
  {
   "cell_type": "code",
   "execution_count": 51,
   "metadata": {},
   "outputs": [],
   "source": [
    "import joblib"
   ]
  },
  {
   "cell_type": "code",
   "execution_count": 54,
   "metadata": {},
   "outputs": [
    {
     "data": {
      "text/plain": [
       "['models/linear_model_00.bin']"
      ]
     },
     "execution_count": 54,
     "metadata": {},
     "output_type": "execute_result"
    }
   ],
   "source": [
    "# serializzazione\n",
    "\n",
    "version = \"00\"\n",
    "joblib.dump(linear_model, f\"models/linear_model_{version}.bin\")"
   ]
  },
  {
   "cell_type": "code",
   "execution_count": null,
   "metadata": {},
   "outputs": [],
   "source": [
    "\n"
   ]
  }
 ],
 "metadata": {
  "kernelspec": {
   "display_name": "AIDS_Base_310",
   "language": "python",
   "name": "python3"
  },
  "language_info": {
   "codemirror_mode": {
    "name": "ipython",
    "version": 3
   },
   "file_extension": ".py",
   "mimetype": "text/x-python",
   "name": "python",
   "nbconvert_exporter": "python",
   "pygments_lexer": "ipython3",
   "version": "3.10.13"
  }
 },
 "nbformat": 4,
 "nbformat_minor": 2
}
